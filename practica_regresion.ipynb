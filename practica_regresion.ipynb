{
  "cells": [
    {
      "cell_type": "markdown",
      "metadata": {
        "id": "RxvO-P_tITZn"
      },
      "source": [
        "# Regresión\n",
        "\n",
        "Autores:\n",
        "Ivan Toribio\n",
        "Héctor Sancho\n",
        "Jordi Hamberg"
      ]
    },
    {
      "cell_type": "markdown",
      "metadata": {
        "id": "27TyiiadIZPP"
      },
      "source": [
        "# Enunciado\n",
        "\n",
        "En esta práctica, se os proporcionará un conjunto de datos con características de automóviles de segunda mano en distintos países. El objetivo es preprocesar los datos y construir un modelo capaz de predecir los precios de coches que nunca haya visto.\n",
        "\n",
        "Además, se llevará a cabo una **competición** en kaggle, podéis inscribiros en este siguiente [enlace](https://www.kaggle.com/t/95194d38b1f9447fa9e3b51b8e9d575f)\n"
      ]
    },
    {
      "cell_type": "markdown",
      "metadata": {
        "id": "ASdGKYmmKbQT"
      },
      "source": [
        "\n",
        "\n",
        "La estructura del proyecto debe ser la siguiente:\n",
        "\n",
        "- Carga y limpieza de los datos\n",
        "- Visualización\n",
        "- Preprocesamiento\n",
        "- Pruebas de modelos (razonar sobre los resultados)\n",
        "- Conclusiones\n",
        "- Creación de submission\n"
      ]
    },
    {
      "cell_type": "markdown",
      "metadata": {
        "id": "m9RcLkX4KfFo"
      },
      "source": [
        "\n",
        "Se valorarán:\n",
        "\n",
        "- Número y variedad de experimentos con sus conclusiones.\n",
        "- Calidad del preprocesamiento (y su razonamiento).\n",
        "- Capacidad de generalización del modelo final.\n",
        "- Trabajo en equipo (en grupos de más de 1 integrante, claro).\n",
        "- Creatividad en la solución.\n",
        "- Claridad del .ipynb presentado en Moodle"
      ]
    },
    {
      "cell_type": "markdown",
      "metadata": {
        "id": "Le4-KCG4JE4q"
      },
      "source": [
        "# Carga y limpieza de los datos\n",
        "\n",
        "\n",
        "Aunque se permite la carga de los datos de forma local, se recomienda emplear las siguientes URLs de gist por comodidad:"
      ]
    },
    {
      "cell_type": "code",
      "execution_count": 1,
      "metadata": {},
      "outputs": [],
      "source": [
        "import numpy as np"
      ]
    },
    {
      "cell_type": "code",
      "execution_count": 2,
      "metadata": {
        "id": "qoqRtl2OIQch"
      },
      "outputs": [],
      "source": [
        "train_url = \"https://gist.githubusercontent.com/w-dan/9c2f9a30d0517c58a08d5a7ef42ef2dd/raw/ee85f61926c9aeae5863369a13bb67e182a702ba/training.csv\"\n",
        "test_url = \"https://gist.githubusercontent.com/w-dan/9c2f9a30d0517c58a08d5a7ef42ef2dd/raw/ee85f61926c9aeae5863369a13bb67e182a702ba/test.csv\""
      ]
    },
    {
      "cell_type": "code",
      "execution_count": 3,
      "metadata": {
        "id": "GvI-OWp_KDiX"
      },
      "outputs": [],
      "source": [
        "import pandas as pd\n",
        "\n",
        "train_df = pd.read_csv(train_url)\n",
        "test_df = pd.read_csv(test_url)"
      ]
    },
    {
      "cell_type": "code",
      "execution_count": 4,
      "metadata": {},
      "outputs": [],
      "source": [
        "import matplotlib.pyplot as plt"
      ]
    },
    {
      "cell_type": "markdown",
      "metadata": {
        "id": "48C0jP1KJGO4"
      },
      "source": [
        "# Visualización"
      ]
    },
    {
      "cell_type": "code",
      "execution_count": 5,
      "metadata": {
        "id": "0YgfTZlrJHS3"
      },
      "outputs": [
        {
          "data": {
            "text/html": [
              "<div>\n",
              "<style scoped>\n",
              "    .dataframe tbody tr th:only-of-type {\n",
              "        vertical-align: middle;\n",
              "    }\n",
              "\n",
              "    .dataframe tbody tr th {\n",
              "        vertical-align: top;\n",
              "    }\n",
              "\n",
              "    .dataframe thead th {\n",
              "        text-align: right;\n",
              "    }\n",
              "</style>\n",
              "<table border=\"1\" class=\"dataframe\">\n",
              "  <thead>\n",
              "    <tr style=\"text-align: right;\">\n",
              "      <th></th>\n",
              "      <th>id</th>\n",
              "      <th>name</th>\n",
              "      <th>year</th>\n",
              "      <th>selling_price</th>\n",
              "      <th>km_driven</th>\n",
              "      <th>fuel</th>\n",
              "      <th>seller_type</th>\n",
              "      <th>transmission</th>\n",
              "      <th>owner</th>\n",
              "      <th>mileage</th>\n",
              "      <th>engine</th>\n",
              "      <th>max_power</th>\n",
              "      <th>torque</th>\n",
              "      <th>seats</th>\n",
              "    </tr>\n",
              "  </thead>\n",
              "  <tbody>\n",
              "    <tr>\n",
              "      <th>0</th>\n",
              "      <td>1</td>\n",
              "      <td>Chevrolet Spark 1.0 LT</td>\n",
              "      <td>2011</td>\n",
              "      <td>130000</td>\n",
              "      <td>68519</td>\n",
              "      <td>Petrol</td>\n",
              "      <td>Dealer</td>\n",
              "      <td>Manual</td>\n",
              "      <td>First Owner</td>\n",
              "      <td>16.2 kmpl</td>\n",
              "      <td>995 CC</td>\n",
              "      <td>62.1 bhp</td>\n",
              "      <td>90.3Nm@ 4200rpm</td>\n",
              "      <td>5.0</td>\n",
              "    </tr>\n",
              "    <tr>\n",
              "      <th>1</th>\n",
              "      <td>2</td>\n",
              "      <td>Hyundai Verna 1.6 SX CRDi (O)</td>\n",
              "      <td>2017</td>\n",
              "      <td>1050000</td>\n",
              "      <td>70000</td>\n",
              "      <td>Diesel</td>\n",
              "      <td>Dealer</td>\n",
              "      <td>Manual</td>\n",
              "      <td>First Owner</td>\n",
              "      <td>22.32 kmpl</td>\n",
              "      <td>1582 CC</td>\n",
              "      <td>126.32 bhp</td>\n",
              "      <td>259.8Nm@ 1900-2750rpm</td>\n",
              "      <td>5.0</td>\n",
              "    </tr>\n",
              "    <tr>\n",
              "      <th>2</th>\n",
              "      <td>3</td>\n",
              "      <td>Mahindra Scorpio S10 7 Seater</td>\n",
              "      <td>2016</td>\n",
              "      <td>1100000</td>\n",
              "      <td>60000</td>\n",
              "      <td>Diesel</td>\n",
              "      <td>Individual</td>\n",
              "      <td>Manual</td>\n",
              "      <td>First Owner</td>\n",
              "      <td>15.4 kmpl</td>\n",
              "      <td>2179 CC</td>\n",
              "      <td>120 bhp</td>\n",
              "      <td>280Nm@ 1800-2800rpm</td>\n",
              "      <td>7.0</td>\n",
              "    </tr>\n",
              "    <tr>\n",
              "      <th>3</th>\n",
              "      <td>4</td>\n",
              "      <td>Hyundai EON 1.0 Kappa Magna Plus Optional</td>\n",
              "      <td>2018</td>\n",
              "      <td>350000</td>\n",
              "      <td>10000</td>\n",
              "      <td>Petrol</td>\n",
              "      <td>Individual</td>\n",
              "      <td>Manual</td>\n",
              "      <td>Second Owner</td>\n",
              "      <td>20.3 kmpl</td>\n",
              "      <td>998 CC</td>\n",
              "      <td>68.05 bhp</td>\n",
              "      <td>94.14Nm@ 3500rpm</td>\n",
              "      <td>5.0</td>\n",
              "    </tr>\n",
              "    <tr>\n",
              "      <th>4</th>\n",
              "      <td>5</td>\n",
              "      <td>Maruti Swift Dzire VDI</td>\n",
              "      <td>2014</td>\n",
              "      <td>490000</td>\n",
              "      <td>50000</td>\n",
              "      <td>Diesel</td>\n",
              "      <td>Individual</td>\n",
              "      <td>Manual</td>\n",
              "      <td>First Owner</td>\n",
              "      <td>23.4 kmpl</td>\n",
              "      <td>1248 CC</td>\n",
              "      <td>74 bhp</td>\n",
              "      <td>190Nm@ 2000rpm</td>\n",
              "      <td>5.0</td>\n",
              "    </tr>\n",
              "    <tr>\n",
              "      <th>...</th>\n",
              "      <td>...</td>\n",
              "      <td>...</td>\n",
              "      <td>...</td>\n",
              "      <td>...</td>\n",
              "      <td>...</td>\n",
              "      <td>...</td>\n",
              "      <td>...</td>\n",
              "      <td>...</td>\n",
              "      <td>...</td>\n",
              "      <td>...</td>\n",
              "      <td>...</td>\n",
              "      <td>...</td>\n",
              "      <td>...</td>\n",
              "      <td>...</td>\n",
              "    </tr>\n",
              "    <tr>\n",
              "      <th>6904</th>\n",
              "      <td>6905</td>\n",
              "      <td>Hyundai i20 2015-2017 Asta Option 1.2</td>\n",
              "      <td>2016</td>\n",
              "      <td>650000</td>\n",
              "      <td>29000</td>\n",
              "      <td>Petrol</td>\n",
              "      <td>Individual</td>\n",
              "      <td>Manual</td>\n",
              "      <td>First Owner</td>\n",
              "      <td>18.6 kmpl</td>\n",
              "      <td>1197 CC</td>\n",
              "      <td>81.83 bhp</td>\n",
              "      <td>114.7Nm@ 4000rpm</td>\n",
              "      <td>5.0</td>\n",
              "    </tr>\n",
              "    <tr>\n",
              "      <th>6905</th>\n",
              "      <td>6906</td>\n",
              "      <td>Hyundai EON Sportz</td>\n",
              "      <td>2017</td>\n",
              "      <td>300000</td>\n",
              "      <td>10000</td>\n",
              "      <td>Petrol</td>\n",
              "      <td>Individual</td>\n",
              "      <td>Manual</td>\n",
              "      <td>First Owner</td>\n",
              "      <td>21.1 kmpl</td>\n",
              "      <td>814 CC</td>\n",
              "      <td>55.2 bhp</td>\n",
              "      <td>74.5Nm@ 4000rpm</td>\n",
              "      <td>5.0</td>\n",
              "    </tr>\n",
              "    <tr>\n",
              "      <th>6906</th>\n",
              "      <td>6907</td>\n",
              "      <td>Maruti Swift VDI Optional</td>\n",
              "      <td>2017</td>\n",
              "      <td>693000</td>\n",
              "      <td>58559</td>\n",
              "      <td>Diesel</td>\n",
              "      <td>Dealer</td>\n",
              "      <td>Manual</td>\n",
              "      <td>First Owner</td>\n",
              "      <td>25.2 kmpl</td>\n",
              "      <td>1248 CC</td>\n",
              "      <td>74 bhp</td>\n",
              "      <td>190Nm@ 2000rpm</td>\n",
              "      <td>5.0</td>\n",
              "    </tr>\n",
              "    <tr>\n",
              "      <th>6907</th>\n",
              "      <td>6908</td>\n",
              "      <td>Maruti Baleno Alpha 1.2</td>\n",
              "      <td>2017</td>\n",
              "      <td>580000</td>\n",
              "      <td>20000</td>\n",
              "      <td>Petrol</td>\n",
              "      <td>Individual</td>\n",
              "      <td>Manual</td>\n",
              "      <td>First Owner</td>\n",
              "      <td>21.4 kmpl</td>\n",
              "      <td>1197 CC</td>\n",
              "      <td>83.1 bhp</td>\n",
              "      <td>115Nm@ 4000rpm</td>\n",
              "      <td>5.0</td>\n",
              "    </tr>\n",
              "    <tr>\n",
              "      <th>6908</th>\n",
              "      <td>6909</td>\n",
              "      <td>Force One SX ABS 7 Seating</td>\n",
              "      <td>2018</td>\n",
              "      <td>1050000</td>\n",
              "      <td>13000</td>\n",
              "      <td>Diesel</td>\n",
              "      <td>Individual</td>\n",
              "      <td>Manual</td>\n",
              "      <td>First Owner</td>\n",
              "      <td>17.0 kmpl</td>\n",
              "      <td>2200 CC</td>\n",
              "      <td>139.01 bhp</td>\n",
              "      <td>321Nm@ 1600-2400rpm</td>\n",
              "      <td>7.0</td>\n",
              "    </tr>\n",
              "  </tbody>\n",
              "</table>\n",
              "<p>6909 rows × 14 columns</p>\n",
              "</div>"
            ],
            "text/plain": [
              "        id                                       name  year  selling_price  \\\n",
              "0        1                     Chevrolet Spark 1.0 LT  2011         130000   \n",
              "1        2              Hyundai Verna 1.6 SX CRDi (O)  2017        1050000   \n",
              "2        3              Mahindra Scorpio S10 7 Seater  2016        1100000   \n",
              "3        4  Hyundai EON 1.0 Kappa Magna Plus Optional  2018         350000   \n",
              "4        5                     Maruti Swift Dzire VDI  2014         490000   \n",
              "...    ...                                        ...   ...            ...   \n",
              "6904  6905      Hyundai i20 2015-2017 Asta Option 1.2  2016         650000   \n",
              "6905  6906                         Hyundai EON Sportz  2017         300000   \n",
              "6906  6907                  Maruti Swift VDI Optional  2017         693000   \n",
              "6907  6908                    Maruti Baleno Alpha 1.2  2017         580000   \n",
              "6908  6909                 Force One SX ABS 7 Seating  2018        1050000   \n",
              "\n",
              "      km_driven    fuel seller_type transmission         owner     mileage  \\\n",
              "0         68519  Petrol      Dealer       Manual   First Owner   16.2 kmpl   \n",
              "1         70000  Diesel      Dealer       Manual   First Owner  22.32 kmpl   \n",
              "2         60000  Diesel  Individual       Manual   First Owner   15.4 kmpl   \n",
              "3         10000  Petrol  Individual       Manual  Second Owner   20.3 kmpl   \n",
              "4         50000  Diesel  Individual       Manual   First Owner   23.4 kmpl   \n",
              "...         ...     ...         ...          ...           ...         ...   \n",
              "6904      29000  Petrol  Individual       Manual   First Owner   18.6 kmpl   \n",
              "6905      10000  Petrol  Individual       Manual   First Owner   21.1 kmpl   \n",
              "6906      58559  Diesel      Dealer       Manual   First Owner   25.2 kmpl   \n",
              "6907      20000  Petrol  Individual       Manual   First Owner   21.4 kmpl   \n",
              "6908      13000  Diesel  Individual       Manual   First Owner   17.0 kmpl   \n",
              "\n",
              "       engine   max_power                 torque  seats  \n",
              "0      995 CC    62.1 bhp        90.3Nm@ 4200rpm    5.0  \n",
              "1     1582 CC  126.32 bhp  259.8Nm@ 1900-2750rpm    5.0  \n",
              "2     2179 CC     120 bhp    280Nm@ 1800-2800rpm    7.0  \n",
              "3      998 CC   68.05 bhp       94.14Nm@ 3500rpm    5.0  \n",
              "4     1248 CC      74 bhp         190Nm@ 2000rpm    5.0  \n",
              "...       ...         ...                    ...    ...  \n",
              "6904  1197 CC   81.83 bhp       114.7Nm@ 4000rpm    5.0  \n",
              "6905   814 CC    55.2 bhp        74.5Nm@ 4000rpm    5.0  \n",
              "6906  1248 CC      74 bhp         190Nm@ 2000rpm    5.0  \n",
              "6907  1197 CC    83.1 bhp         115Nm@ 4000rpm    5.0  \n",
              "6908  2200 CC  139.01 bhp    321Nm@ 1600-2400rpm    7.0  \n",
              "\n",
              "[6909 rows x 14 columns]"
            ]
          },
          "execution_count": 5,
          "metadata": {},
          "output_type": "execute_result"
        }
      ],
      "source": [
        "train_df"
      ]
    },
    {
      "cell_type": "markdown",
      "metadata": {},
      "source": [
        "Vamos a utilizar la funcion crear_pol para convertir series en dataframes de varias columnas con las versiones elevadas a distintos exponentes de los datos para poder hacer una regresion polinomica. Ahora ponemos un ejemplo von years"
      ]
    },
    {
      "cell_type": "code",
      "execution_count": 6,
      "metadata": {},
      "outputs": [
        {
          "data": {
            "text/plain": [
              "<matplotlib.collections.PathCollection at 0x128e6780110>"
            ]
          },
          "execution_count": 6,
          "metadata": {},
          "output_type": "execute_result"
        },
        {
          "data": {
            "image/png": "[encoded data removed]",
            "text/plain": [
              "<Figure size 640x480 with 1 Axes>"
            ]
          },
          "metadata": {},
          "output_type": "display_data"
        }
      ],
      "source": [
        "df_ejemplo = train_df.loc[:,[\"selling_price\", \"year\"]]\n",
        "\n",
        "\n",
        "from sklearn.linear_model import LinearRegression\n",
        "reg = LinearRegression()\n",
        "\n",
        "X = df_ejemplo[\"year\"].values.reshape(-1,1)\n",
        "y = df_ejemplo[\"selling_price\"]\n",
        "\n",
        "reg.fit(X, y)\n",
        "y_pred = reg.predict(X)\n",
        "\n",
        "plt.scatter(X, y)\n",
        "plt.scatter(X, y_pred, color = \"red\")"
      ]
    },
    {
      "cell_type": "code",
      "execution_count": 7,
      "metadata": {},
      "outputs": [],
      "source": [
        "DEGREE = 3"
      ]
    },
    {
      "cell_type": "code",
      "execution_count": 8,
      "metadata": {},
      "outputs": [],
      "source": [
        "def crear_pol(columna : pd.Series, column_name : str):\n",
        "\n",
        "    if DEGREE == 1:\n",
        "        return pd.DataFrame({column_name + \"_1\": columna})\n",
        "\n",
        "    columna = columna.replace(np.nan, 0)\n",
        "\n",
        "    matriz_valores = columna.values.reshape(-1, 1)\n",
        "\n",
        "    from sklearn.preprocessing import PolynomialFeatures\n",
        "    pol = PolynomialFeatures(DEGREE)\n",
        "\n",
        "    matriz = pol.fit_transform(matriz_valores)\n",
        "\n",
        "    df_temp = pd.DataFrame()\n",
        "\n",
        "    for i, columna in enumerate(matriz.transpose()):\n",
        "        df_temp[f\"{column_name}_{i}\"] = columna\n",
        "\n",
        "    df_temp = df_temp.replace(0, np.nan)\n",
        "\n",
        "    return df_temp"
      ]
    },
    {
      "cell_type": "markdown",
      "metadata": {},
      "source": [
        "para algunos años predice valores negativos y en general vemos que una recta no va a ser una buena aproximacion para los datos, probamos con crear pol"
      ]
    },
    {
      "cell_type": "code",
      "execution_count": 9,
      "metadata": {},
      "outputs": [
        {
          "data": {
            "text/plain": [
              "<matplotlib.collections.PathCollection at 0x128ea936450>"
            ]
          },
          "execution_count": 9,
          "metadata": {},
          "output_type": "execute_result"
        },
        {
          "data": {
            "image/png": "[encoded data removed]",
            "text/plain": [
              "<Figure size 640x480 with 1 Axes>"
            ]
          },
          "metadata": {},
          "output_type": "display_data"
        }
      ],
      "source": [
        "df_pol = pd.concat([train_df[\"selling_price\"], crear_pol(df_ejemplo[\"year\"], \"year\")], axis=1)\n",
        "\n",
        "X = df_pol.drop(\"selling_price\", axis=1).values\n",
        "y = df_pol[\"selling_price\"]\n",
        "\n",
        "reg.fit(X, y)\n",
        "y_pred = reg.predict(X)\n",
        "\n",
        "plt.scatter(df_pol[\"year_1\"], y)\n",
        "plt.scatter(df_pol[\"year_1\"], y_pred, color = \"red\")"
      ]
    },
    {
      "cell_type": "markdown",
      "metadata": {},
      "source": [
        "Esto funciona mejor pero como veremos hay mejores regresores que el linearRegressor normal, a los que no es necesario psarle los datos con los diferente grados para que no aproxime con una linea recta"
      ]
    },
    {
      "cell_type": "code",
      "execution_count": 10,
      "metadata": {},
      "outputs": [
        {
          "data": {
            "text/plain": [
              "<matplotlib.collections.PathCollection at 0x128e67a1160>"
            ]
          },
          "execution_count": 10,
          "metadata": {},
          "output_type": "execute_result"
        },
        {
          "data": {
            "image/png": "[encoded data removed]",
            "text/plain": [
              "<Figure size 640x480 with 1 Axes>"
            ]
          },
          "metadata": {},
          "output_type": "display_data"
        }
      ],
      "source": [
        "from sklearn.linear_model import GammaRegressor\n",
        "reg = GammaRegressor()\n",
        "\n",
        "DEGREE = 1\n",
        "\n",
        "X = df_ejemplo[\"year\"].values.reshape(-1,1)\n",
        "y = df_ejemplo[\"selling_price\"]\n",
        "\n",
        "reg.fit(X, y)\n",
        "y_pred = reg.predict(X)\n",
        "\n",
        "plt.scatter(X, y)\n",
        "plt.scatter(X, y_pred, color = \"red\")"
      ]
    },
    {
      "cell_type": "markdown",
      "metadata": {},
      "source": [
        "# Preprocesamiento"
      ]
    },
    {
      "cell_type": "code",
      "execution_count": 11,
      "metadata": {},
      "outputs": [],
      "source": [
        "DEGREE = 1"
      ]
    },
    {
      "cell_type": "code",
      "execution_count": 12,
      "metadata": {
        "id": "WQJaY771JIy5"
      },
      "outputs": [],
      "source": [
        "processed_df = pd.DataFrame()"
      ]
    },
    {
      "cell_type": "code",
      "execution_count": 13,
      "metadata": {},
      "outputs": [],
      "source": [
        "#nombre\n",
        "processed_df[\"name\"] = train_df[\"name\"]"
      ]
    },
    {
      "cell_type": "code",
      "execution_count": 14,
      "metadata": {},
      "outputs": [],
      "source": [
        "#precio\n",
        "processed_df[\"selling_price\"] = train_df[\"selling_price\"]"
      ]
    },
    {
      "cell_type": "code",
      "execution_count": 15,
      "metadata": {},
      "outputs": [],
      "source": [
        "#year\n",
        "processed_df = pd.concat([processed_df, crear_pol(train_df[\"year\"], \"year\")], axis=1)"
      ]
    },
    {
      "cell_type": "code",
      "execution_count": 16,
      "metadata": {
        "id": "KGmluLJcJJ6R"
      },
      "outputs": [],
      "source": [
        "#km_driven\n",
        "processed_df = pd.concat([processed_df, crear_pol(train_df[\"km_driven\"], \"km_driven\")], axis=1)"
      ]
    },
    {
      "cell_type": "code",
      "execution_count": 17,
      "metadata": {},
      "outputs": [],
      "source": [
        "def splitter(x):\n",
        "    if type(x) == str:\n",
        "        return float(x.split(\" \")[0])\n",
        "    return x"
      ]
    },
    {
      "cell_type": "code",
      "execution_count": 18,
      "metadata": {},
      "outputs": [],
      "source": [
        "import re\n",
        "\n",
        "def splitter_re(x):\n",
        "    if type(x) == str:\n",
        "        try:\n",
        "            return re.findall(r\"[0-9.]+\", x)[0]\n",
        "        except Exception:\n",
        "            return np.nan\n",
        "    else:\n",
        "        return x"
      ]
    },
    {
      "cell_type": "code",
      "execution_count": 19,
      "metadata": {
        "id": "_10vjsklJKqo"
      },
      "outputs": [],
      "source": [
        "#mileage\n",
        "\n",
        "serie = train_df[\"mileage\"]\n",
        "serie = serie.apply(splitter)\n",
        "\n",
        "processed_df = pd.concat([processed_df, crear_pol(serie, \"mileage\")], axis=1)\n",
        "\n"
      ]
    },
    {
      "cell_type": "code",
      "execution_count": 20,
      "metadata": {},
      "outputs": [],
      "source": [
        "#engine\n",
        "\n",
        "\n",
        "serie = train_df[\"engine\"]\n",
        "serie = serie.apply(splitter)\n",
        "\n",
        "processed_df = pd.concat([processed_df, crear_pol(serie, \"engine\")], axis=1)"
      ]
    },
    {
      "cell_type": "code",
      "execution_count": 21,
      "metadata": {},
      "outputs": [],
      "source": [
        "#max_power\n",
        "\n",
        "serie = train_df[\"max_power\"]\n",
        "serie = serie.apply(splitter_re)\n",
        "\n",
        "processed_df = pd.concat([processed_df, crear_pol(serie, \"max_power\")], axis=1)"
      ]
    },
    {
      "cell_type": "code",
      "execution_count": 22,
      "metadata": {},
      "outputs": [],
      "source": [
        "#seats\n",
        "\n",
        "serie = train_df[\"seats\"]\n",
        "\n",
        "processed_df = pd.concat([processed_df, crear_pol(serie, \"seats\")], axis=1)"
      ]
    },
    {
      "cell_type": "code",
      "execution_count": 23,
      "metadata": {},
      "outputs": [],
      "source": [
        "categoricas = [\"fuel\", \"seller_type\", \"transmission\", \"owner\"]\n",
        "\n",
        "diccionarios = {}"
      ]
    },
    {
      "cell_type": "markdown",
      "metadata": {},
      "source": [
        "Para tratar las variables discretas nos salimos un poco del encoder normal. Para dar un sentido de orden agrupamos los datos en en funcion de la variabe discreta y asignaremos a estas variables, el precio medio de coches con esa caracteristica. Al hacer lo mismo con la primera palabra del nombre de los coches tenemos un valor para las marcas, que tiene sentido añadir al modelo ya que hay marcas que por lo generar son mas caras que el resto."
      ]
    },
    {
      "cell_type": "code",
      "execution_count": 24,
      "metadata": {},
      "outputs": [],
      "source": [
        "df_aux = pd.DataFrame({\n",
        "\n",
        "    \"selling_price\":train_df[\"selling_price\"],\n",
        "    \"brand\": train_df[\"name\"].map(lambda x: x.split()[0])\n",
        "\n",
        "})\n",
        "\n",
        "pesos = df_aux.groupby(\"brand\").mean().reset_index()\n",
        "pesos = pesos.rename(columns={\"selling_price\": \"peso\"})\n",
        "\n",
        "df_aux.drop(columns=[\"selling_price\"], inplace=True)\n",
        "\n",
        "diccionario = {categorica : peso for categorica, peso in pesos.values}\n",
        "\n",
        "diccionarios[\"brand\"] = diccionario\n",
        "\n",
        "df_aux = df_aux.map(lambda x: diccionario[x])\n",
        "\n",
        "processed_df = pd.concat([processed_df, crear_pol(df_aux[\"brand\"], \"brand\")], axis=1)"
      ]
    },
    {
      "cell_type": "code",
      "execution_count": 25,
      "metadata": {},
      "outputs": [],
      "source": [
        "for categorica in categoricas:\n",
        "\n",
        "    df_aux = train_df.loc[:,[categorica, \"selling_price\"]]\n",
        "\n",
        "    pesos = df_aux.groupby(categorica).mean().reset_index()\n",
        "    pesos = pesos.rename(columns={\"selling_price\": \"peso\"})\n",
        "\n",
        "    df_aux.drop(columns=[\"selling_price\"], inplace=True)\n",
        "\n",
        "    diccionario = {categorica : peso for categorica, peso in pesos.values}\n",
        "\n",
        "    diccionarios[categorica] = diccionario\n",
        "\n",
        "    df_aux = df_aux.map(lambda x: diccionario[x])\n",
        "\n",
        "    processed_df = pd.concat([processed_df, crear_pol(df_aux[categorica], categorica)], axis=1)"
      ]
    },
    {
      "cell_type": "markdown",
      "metadata": {
        "id": "_oO7TeuXJJRH"
      },
      "source": [
        "# Pruebas de modelos"
      ]
    },
    {
      "cell_type": "code",
      "execution_count": 26,
      "metadata": {},
      "outputs": [],
      "source": [
        "#metricas\n",
        "\n",
        "from sklearn.metrics import mean_absolute_error as mae\n",
        "from sklearn.metrics import explained_variance_score as evs\n",
        "from sklearn.metrics import mean_squared_error as mse\n",
        "\n",
        "\n",
        "def metricas(y_pred, y):\n",
        "    \n",
        "    print (mae(y, y_pred))\n",
        "    print (evs(y, y_pred))"
      ]
    },
    {
      "cell_type": "code",
      "execution_count": null,
      "metadata": {},
      "outputs": [],
      "source": []
    },
    {
      "cell_type": "code",
      "execution_count": 27,
      "metadata": {},
      "outputs": [],
      "source": [
        "#Tratar Nan\n",
        "\n",
        "#Sustituimos por la media de la columna\n",
        "\n",
        "from copy import deepcopy\n",
        "\n",
        "\n",
        "def procesar_nan(df : pd.DataFrame):\n",
        "\n",
        "    df_copy = df.copy()\n",
        "\n",
        "    for columna in df_copy.columns:\n",
        "        media = df_copy[columna].mean()\n",
        "        df_copy[columna] = df_copy[columna].fillna(media)\n",
        "\n",
        "    return df_copy\n",
        "        "
      ]
    },
    {
      "cell_type": "markdown",
      "metadata": {},
      "source": [
        "Train test split"
      ]
    },
    {
      "cell_type": "code",
      "execution_count": 28,
      "metadata": {},
      "outputs": [],
      "source": [
        "from sklearn.model_selection import train_test_split\n",
        "\n",
        "train, test = train_test_split(processed_df, test_size=0.2, random_state=16)\n",
        "\n",
        "\n",
        "\n",
        "\n",
        "X_train = train.drop([\"name\", \"selling_price\"], axis=1)\n",
        "X_train = X_train.astype(\"float64\")\n",
        "y_train = train[\"selling_price\"]\n",
        "\n",
        "X_test = test.drop([\"name\", \"selling_price\"], axis=1)\n",
        "X_test = X_test.astype(\"float64\")\n",
        "y_test = test[\"selling_price\"]"
      ]
    },
    {
      "cell_type": "markdown",
      "metadata": {},
      "source": [
        "Regresion lineal\n",
        "\n",
        "Nota: La puntuacion en grado 2 mejora hasta 160437, pero lo dejaremos en grado 1 para que no interfiera con el resto de pruebas"
      ]
    },
    {
      "cell_type": "code",
      "execution_count": 29,
      "metadata": {},
      "outputs": [
        {
          "name": "stdout",
          "output_type": "stream",
          "text": [
            "179569.16245879116\n",
            "0.844341061931686\n"
          ]
        }
      ],
      "source": [
        "df_aux = pd.concat([X_train, y_train], axis=1)\n",
        "\n",
        "df_aux.dropna(axis=0, inplace=True)\n",
        "\n",
        "X_train = df_aux.drop(\"selling_price\", axis=1)\n",
        "y_train = df_aux[\"selling_price\"]\n",
        "\n",
        "from sklearn.linear_model import LinearRegression\n",
        "\n",
        "reg = LinearRegression()\n",
        "reg.fit(X_train, y_train)\n",
        "metricas(reg.predict(procesar_nan(X_test)), y_test)"
      ]
    },
    {
      "cell_type": "code",
      "execution_count": 30,
      "metadata": {},
      "outputs": [
        {
          "name": "stdout",
          "output_type": "stream",
          "text": [
            "242031.06826811167\n",
            "-1.3737866603077062\n"
          ]
        }
      ],
      "source": [
        "df_aux = pd.concat([X_train, y_train], axis=1)\n",
        "\n",
        "df_aux.dropna(axis=0, inplace=True)\n",
        "\n",
        "X_train = df_aux.drop(\"selling_price\", axis=1)\n",
        "y_train = df_aux[\"selling_price\"]\n",
        "\n",
        "from sklearn.linear_model import GammaRegressor\n",
        "\n",
        "reg = GammaRegressor(max_iter=9999)\n",
        "reg.fit(X_train, y_train)\n",
        "metricas(reg.predict(procesar_nan(X_test)), y_test)\n"
      ]
    },
    {
      "cell_type": "code",
      "execution_count": 31,
      "metadata": {},
      "outputs": [
        {
          "name": "stdout",
          "output_type": "stream",
          "text": [
            "196102.60477451218\n",
            "0.8295632394131919\n"
          ]
        }
      ],
      "source": [
        "df_aux = pd.concat([X_train, y_train], axis=1)\n",
        "\n",
        "df_aux.dropna(axis=0, inplace=True)\n",
        "\n",
        "X_train = df_aux.drop(\"selling_price\", axis=1)\n",
        "y_train = df_aux[\"selling_price\"]\n",
        "\n",
        "from sklearn.linear_model import TweedieRegressor\n",
        "\n",
        "reg = TweedieRegressor(max_iter=9999)\n",
        "reg.fit(X_train, y_train)\n",
        "metricas(reg.predict(procesar_nan(X_test)), y_test)"
      ]
    },
    {
      "cell_type": "code",
      "execution_count": 32,
      "metadata": {},
      "outputs": [
        {
          "name": "stdout",
          "output_type": "stream",
          "text": [
            "196363.64865582544\n",
            "0.8223187179129101\n"
          ]
        }
      ],
      "source": [
        "df_aux = pd.concat([X_train, y_train], axis=1)\n",
        "\n",
        "df_aux.dropna(axis=0, inplace=True)\n",
        "\n",
        "X_train = df_aux.drop(\"selling_price\", axis=1)\n",
        "y_train = df_aux[\"selling_price\"]\n",
        "\n",
        "from sklearn.linear_model import QuantileRegressor\n",
        "\n",
        "reg = QuantileRegressor()\n",
        "reg.fit(X_train, y_train)\n",
        "metricas(reg.predict(procesar_nan(X_test)), y_test)"
      ]
    },
    {
      "cell_type": "code",
      "execution_count": 33,
      "metadata": {},
      "outputs": [
        {
          "name": "stdout",
          "output_type": "stream",
          "text": [
            "90528.27167825183\n",
            "0.9659740703136602\n"
          ]
        }
      ],
      "source": [
        "df_aux = pd.concat([X_train, y_train], axis=1)\n",
        "\n",
        "df_aux.dropna(axis=0, inplace=True)\n",
        "\n",
        "X_train = df_aux.drop(\"selling_price\", axis=1)\n",
        "y_train = df_aux[\"selling_price\"]\n",
        "\n",
        "from sklearn.ensemble import GradientBoostingRegressor\n",
        "\n",
        "reg = GradientBoostingRegressor()\n",
        "reg.fit(X_train, y_train)\n",
        "metricas(reg.predict(procesar_nan(X_test)), y_test)"
      ]
    },
    {
      "cell_type": "code",
      "execution_count": 34,
      "metadata": {},
      "outputs": [
        {
          "name": "stdout",
          "output_type": "stream",
          "text": [
            "76058.36256739704\n",
            "0.9700157098912171\n"
          ]
        }
      ],
      "source": [
        "from sklearn.ensemble import HistGradientBoostingRegressor\n",
        "\n",
        "reg = HistGradientBoostingRegressor()\n",
        "reg.fit(X_train, y_train)\n",
        "metricas(reg.predict(X_test), y_test)"
      ]
    },
    {
      "cell_type": "code",
      "execution_count": 35,
      "metadata": {},
      "outputs": [
        {
          "name": "stdout",
          "output_type": "stream",
          "text": [
            "78289.17086673508\n",
            "0.9401256421526638\n"
          ]
        }
      ],
      "source": [
        "from sklearn.ensemble import BaggingRegressor\n",
        "\n",
        "reg = BaggingRegressor(random_state=16)\n",
        "reg.fit(X_train, y_train)\n",
        "metricas(reg.predict(X_test), y_test)"
      ]
    },
    {
      "cell_type": "code",
      "execution_count": 36,
      "metadata": {},
      "outputs": [
        {
          "name": "stdout",
          "output_type": "stream",
          "text": [
            "73936.76242928597\n",
            "0.9546567751318892\n"
          ]
        }
      ],
      "source": [
        "from sklearn.ensemble import RandomForestRegressor\n",
        "reg = RandomForestRegressor()\n",
        "reg.fit(X_train, y_train)\n",
        "metricas(reg.predict(X_test), y_test)"
      ]
    },
    {
      "cell_type": "code",
      "execution_count": 37,
      "metadata": {},
      "outputs": [
        {
          "name": "stdout",
          "output_type": "stream",
          "text": [
            "71882.1822464555\n",
            "0.9617860468894152\n"
          ]
        }
      ],
      "source": [
        "df_aux = pd.concat([X_train, y_train], axis=1)\n",
        "\n",
        "df_aux.dropna(axis=0, inplace=True)\n",
        "\n",
        "X_train = df_aux.drop(\"selling_price\", axis=1)\n",
        "y_train = df_aux[\"selling_price\"]\n",
        "\n",
        "from sklearn.ensemble import ExtraTreesRegressor\n",
        "reg = ExtraTreesRegressor()\n",
        "reg.fit(X_train, y_train)\n",
        "metricas(reg.predict(procesar_nan(X_test)), y_test)"
      ]
    },
    {
      "cell_type": "code",
      "execution_count": 38,
      "metadata": {},
      "outputs": [
        {
          "data": {
            "text/html": [
              "<div>\n",
              "<style scoped>\n",
              "    .dataframe tbody tr th:only-of-type {\n",
              "        vertical-align: middle;\n",
              "    }\n",
              "\n",
              "    .dataframe tbody tr th {\n",
              "        vertical-align: top;\n",
              "    }\n",
              "\n",
              "    .dataframe thead th {\n",
              "        text-align: right;\n",
              "    }\n",
              "</style>\n",
              "<table border=\"1\" class=\"dataframe\">\n",
              "  <thead>\n",
              "    <tr style=\"text-align: right;\">\n",
              "      <th></th>\n",
              "      <th>name</th>\n",
              "      <th>selling_price</th>\n",
              "      <th>year_1</th>\n",
              "      <th>km_driven_1</th>\n",
              "      <th>mileage_1</th>\n",
              "      <th>engine_1</th>\n",
              "      <th>max_power_1</th>\n",
              "      <th>seats_1</th>\n",
              "      <th>brand_1</th>\n",
              "      <th>fuel_1</th>\n",
              "      <th>seller_type_1</th>\n",
              "      <th>transmission_1</th>\n",
              "      <th>owner_1</th>\n",
              "    </tr>\n",
              "  </thead>\n",
              "  <tbody>\n",
              "    <tr>\n",
              "      <th>0</th>\n",
              "      <td>Chevrolet Spark 1.0 LT</td>\n",
              "      <td>130000</td>\n",
              "      <td>2011</td>\n",
              "      <td>68519</td>\n",
              "      <td>16.20</td>\n",
              "      <td>995.0</td>\n",
              "      <td>62.1</td>\n",
              "      <td>5.0</td>\n",
              "      <td>269997.621891</td>\n",
              "      <td>459605.076059</td>\n",
              "      <td>1.415780e+06</td>\n",
              "      <td>453091.397115</td>\n",
              "      <td>771708.327317</td>\n",
              "    </tr>\n",
              "    <tr>\n",
              "      <th>1</th>\n",
              "      <td>Hyundai Verna 1.6 SX CRDi (O)</td>\n",
              "      <td>1050000</td>\n",
              "      <td>2017</td>\n",
              "      <td>70000</td>\n",
              "      <td>22.32</td>\n",
              "      <td>1582.0</td>\n",
              "      <td>126.32</td>\n",
              "      <td>5.0</td>\n",
              "      <td>454804.856073</td>\n",
              "      <td>778718.659924</td>\n",
              "      <td>1.415780e+06</td>\n",
              "      <td>453091.397115</td>\n",
              "      <td>771708.327317</td>\n",
              "    </tr>\n",
              "    <tr>\n",
              "      <th>2</th>\n",
              "      <td>Mahindra Scorpio S10 7 Seater</td>\n",
              "      <td>1100000</td>\n",
              "      <td>2016</td>\n",
              "      <td>60000</td>\n",
              "      <td>15.40</td>\n",
              "      <td>2179.0</td>\n",
              "      <td>120</td>\n",
              "      <td>7.0</td>\n",
              "      <td>618376.889231</td>\n",
              "      <td>778718.659924</td>\n",
              "      <td>4.920603e+05</td>\n",
              "      <td>453091.397115</td>\n",
              "      <td>771708.327317</td>\n",
              "    </tr>\n",
              "    <tr>\n",
              "      <th>3</th>\n",
              "      <td>Hyundai EON 1.0 Kappa Magna Plus Optional</td>\n",
              "      <td>350000</td>\n",
              "      <td>2018</td>\n",
              "      <td>10000</td>\n",
              "      <td>20.30</td>\n",
              "      <td>998.0</td>\n",
              "      <td>68.05</td>\n",
              "      <td>5.0</td>\n",
              "      <td>454804.856073</td>\n",
              "      <td>459605.076059</td>\n",
              "      <td>4.920603e+05</td>\n",
              "      <td>453091.397115</td>\n",
              "      <td>385728.259053</td>\n",
              "    </tr>\n",
              "    <tr>\n",
              "      <th>4</th>\n",
              "      <td>Maruti Swift Dzire VDI</td>\n",
              "      <td>490000</td>\n",
              "      <td>2014</td>\n",
              "      <td>50000</td>\n",
              "      <td>23.40</td>\n",
              "      <td>1248.0</td>\n",
              "      <td>74</td>\n",
              "      <td>5.0</td>\n",
              "      <td>405203.436681</td>\n",
              "      <td>778718.659924</td>\n",
              "      <td>4.920603e+05</td>\n",
              "      <td>453091.397115</td>\n",
              "      <td>771708.327317</td>\n",
              "    </tr>\n",
              "    <tr>\n",
              "      <th>...</th>\n",
              "      <td>...</td>\n",
              "      <td>...</td>\n",
              "      <td>...</td>\n",
              "      <td>...</td>\n",
              "      <td>...</td>\n",
              "      <td>...</td>\n",
              "      <td>...</td>\n",
              "      <td>...</td>\n",
              "      <td>...</td>\n",
              "      <td>...</td>\n",
              "      <td>...</td>\n",
              "      <td>...</td>\n",
              "      <td>...</td>\n",
              "    </tr>\n",
              "    <tr>\n",
              "      <th>6904</th>\n",
              "      <td>Hyundai i20 2015-2017 Asta Option 1.2</td>\n",
              "      <td>650000</td>\n",
              "      <td>2016</td>\n",
              "      <td>29000</td>\n",
              "      <td>18.60</td>\n",
              "      <td>1197.0</td>\n",
              "      <td>81.83</td>\n",
              "      <td>5.0</td>\n",
              "      <td>454804.856073</td>\n",
              "      <td>459605.076059</td>\n",
              "      <td>4.920603e+05</td>\n",
              "      <td>453091.397115</td>\n",
              "      <td>771708.327317</td>\n",
              "    </tr>\n",
              "    <tr>\n",
              "      <th>6905</th>\n",
              "      <td>Hyundai EON Sportz</td>\n",
              "      <td>300000</td>\n",
              "      <td>2017</td>\n",
              "      <td>10000</td>\n",
              "      <td>21.10</td>\n",
              "      <td>814.0</td>\n",
              "      <td>55.2</td>\n",
              "      <td>5.0</td>\n",
              "      <td>454804.856073</td>\n",
              "      <td>459605.076059</td>\n",
              "      <td>4.920603e+05</td>\n",
              "      <td>453091.397115</td>\n",
              "      <td>771708.327317</td>\n",
              "    </tr>\n",
              "    <tr>\n",
              "      <th>6906</th>\n",
              "      <td>Maruti Swift VDI Optional</td>\n",
              "      <td>693000</td>\n",
              "      <td>2017</td>\n",
              "      <td>58559</td>\n",
              "      <td>25.20</td>\n",
              "      <td>1248.0</td>\n",
              "      <td>74</td>\n",
              "      <td>5.0</td>\n",
              "      <td>405203.436681</td>\n",
              "      <td>778718.659924</td>\n",
              "      <td>1.415780e+06</td>\n",
              "      <td>453091.397115</td>\n",
              "      <td>771708.327317</td>\n",
              "    </tr>\n",
              "    <tr>\n",
              "      <th>6907</th>\n",
              "      <td>Maruti Baleno Alpha 1.2</td>\n",
              "      <td>580000</td>\n",
              "      <td>2017</td>\n",
              "      <td>20000</td>\n",
              "      <td>21.40</td>\n",
              "      <td>1197.0</td>\n",
              "      <td>83.1</td>\n",
              "      <td>5.0</td>\n",
              "      <td>405203.436681</td>\n",
              "      <td>459605.076059</td>\n",
              "      <td>4.920603e+05</td>\n",
              "      <td>453091.397115</td>\n",
              "      <td>771708.327317</td>\n",
              "    </tr>\n",
              "    <tr>\n",
              "      <th>6908</th>\n",
              "      <td>Force One SX ABS 7 Seating</td>\n",
              "      <td>1050000</td>\n",
              "      <td>2018</td>\n",
              "      <td>13000</td>\n",
              "      <td>17.00</td>\n",
              "      <td>2200.0</td>\n",
              "      <td>139.01</td>\n",
              "      <td>7.0</td>\n",
              "      <td>887500.000000</td>\n",
              "      <td>778718.659924</td>\n",
              "      <td>4.920603e+05</td>\n",
              "      <td>453091.397115</td>\n",
              "      <td>771708.327317</td>\n",
              "    </tr>\n",
              "  </tbody>\n",
              "</table>\n",
              "<p>6909 rows × 13 columns</p>\n",
              "</div>"
            ],
            "text/plain": [
              "                                           name  selling_price  year_1  \\\n",
              "0                        Chevrolet Spark 1.0 LT         130000    2011   \n",
              "1                 Hyundai Verna 1.6 SX CRDi (O)        1050000    2017   \n",
              "2                 Mahindra Scorpio S10 7 Seater        1100000    2016   \n",
              "3     Hyundai EON 1.0 Kappa Magna Plus Optional         350000    2018   \n",
              "4                        Maruti Swift Dzire VDI         490000    2014   \n",
              "...                                         ...            ...     ...   \n",
              "6904      Hyundai i20 2015-2017 Asta Option 1.2         650000    2016   \n",
              "6905                         Hyundai EON Sportz         300000    2017   \n",
              "6906                  Maruti Swift VDI Optional         693000    2017   \n",
              "6907                    Maruti Baleno Alpha 1.2         580000    2017   \n",
              "6908                 Force One SX ABS 7 Seating        1050000    2018   \n",
              "\n",
              "      km_driven_1  mileage_1  engine_1 max_power_1  seats_1        brand_1  \\\n",
              "0           68519      16.20     995.0        62.1      5.0  269997.621891   \n",
              "1           70000      22.32    1582.0      126.32      5.0  454804.856073   \n",
              "2           60000      15.40    2179.0         120      7.0  618376.889231   \n",
              "3           10000      20.30     998.0       68.05      5.0  454804.856073   \n",
              "4           50000      23.40    1248.0          74      5.0  405203.436681   \n",
              "...           ...        ...       ...         ...      ...            ...   \n",
              "6904        29000      18.60    1197.0       81.83      5.0  454804.856073   \n",
              "6905        10000      21.10     814.0        55.2      5.0  454804.856073   \n",
              "6906        58559      25.20    1248.0          74      5.0  405203.436681   \n",
              "6907        20000      21.40    1197.0        83.1      5.0  405203.436681   \n",
              "6908        13000      17.00    2200.0      139.01      7.0  887500.000000   \n",
              "\n",
              "             fuel_1  seller_type_1  transmission_1        owner_1  \n",
              "0     459605.076059   1.415780e+06   453091.397115  771708.327317  \n",
              "1     778718.659924   1.415780e+06   453091.397115  771708.327317  \n",
              "2     778718.659924   4.920603e+05   453091.397115  771708.327317  \n",
              "3     459605.076059   4.920603e+05   453091.397115  385728.259053  \n",
              "4     778718.659924   4.920603e+05   453091.397115  771708.327317  \n",
              "...             ...            ...             ...            ...  \n",
              "6904  459605.076059   4.920603e+05   453091.397115  771708.327317  \n",
              "6905  459605.076059   4.920603e+05   453091.397115  771708.327317  \n",
              "6906  778718.659924   1.415780e+06   453091.397115  771708.327317  \n",
              "6907  459605.076059   4.920603e+05   453091.397115  771708.327317  \n",
              "6908  778718.659924   4.920603e+05   453091.397115  771708.327317  \n",
              "\n",
              "[6909 rows x 13 columns]"
            ]
          },
          "execution_count": 38,
          "metadata": {},
          "output_type": "execute_result"
        }
      ],
      "source": [
        "processed_df"
      ]
    },
    {
      "cell_type": "markdown",
      "metadata": {
        "id": "B1iNlwUwJKPG"
      },
      "source": [
        "# Conclusiones"
      ]
    },
    {
      "cell_type": "markdown",
      "metadata": {},
      "source": [
        "Finalmente nos quedamos con el modelo de Extratrees."
      ]
    },
    {
      "cell_type": "markdown",
      "metadata": {
        "id": "g2jGH1ynJMK7"
      },
      "source": [
        "# Creación de *submission* para Kaggle"
      ]
    },
    {
      "cell_type": "code",
      "execution_count": 39,
      "metadata": {
        "id": "tNe-c5zNJO2r"
      },
      "outputs": [
        {
          "name": "stdout",
          "output_type": "stream",
          "text": [
            "Index(['name', 'year_1', 'km_driven_1', 'mileage_1', 'engine_1', 'max_power_1',\n",
            "       'seats_1', 'brand_1', 'fuel_1', 'seller_type_1', 'transmission_1',\n",
            "       'owner_1'],\n",
            "      dtype='object')\n",
            "Index(['name', 'selling_price', 'year_1', 'km_driven_1', 'mileage_1',\n",
            "       'engine_1', 'max_power_1', 'seats_1', 'brand_1', 'fuel_1',\n",
            "       'seller_type_1', 'transmission_1', 'owner_1'],\n",
            "      dtype='object')\n"
          ]
        }
      ],
      "source": [
        "#procesado dataset\n",
        "\n",
        "processed_sub_df = pd.DataFrame()\n",
        "\n",
        "#nombre\n",
        "processed_sub_df[\"name\"] = test_df[\"name\"]\n",
        "\n",
        "#year\n",
        "processed_sub_df = pd.concat([processed_sub_df, crear_pol(test_df[\"year\"], \"year\")], axis=1)\n",
        "\n",
        "#km_driven\n",
        "processed_sub_df = pd.concat([processed_sub_df, crear_pol(test_df[\"km_driven\"], \"km_driven\")], axis=1)\n",
        "\n",
        "#mileage\n",
        "\n",
        "serie = test_df[\"mileage\"]\n",
        "serie = serie.apply(splitter)\n",
        "\n",
        "processed_sub_df = pd.concat([processed_sub_df, crear_pol(serie, \"mileage\")], axis=1)\n",
        "\n",
        "#engine\n",
        "\n",
        "\n",
        "serie = test_df[\"engine\"]\n",
        "serie = serie.apply(splitter)\n",
        "\n",
        "processed_sub_df = pd.concat([processed_sub_df, crear_pol(serie, \"engine\")], axis=1)\n",
        "\n",
        "#max_power\n",
        "\n",
        "serie = test_df[\"max_power\"]\n",
        "serie = serie.apply(splitter_re)\n",
        "\n",
        "processed_sub_df = pd.concat([processed_sub_df, crear_pol(serie, \"max_power\")], axis=1)\n",
        "\n",
        "#seats\n",
        "\n",
        "serie = test_df[\"seats\"]\n",
        "\n",
        "processed_sub_df = pd.concat([processed_sub_df, crear_pol(serie, \"seats\")], axis=1)\n",
        "\n",
        "#Categoricas\n",
        "\n",
        "serie_marcas = test_df[\"name\"].apply(lambda x: x.split(\" \")[0])\n",
        "serie_marcas = serie_marcas.map(lambda x: diccionarios[\"brand\"][x])\n",
        "processed_sub_df = pd.concat([processed_sub_df, crear_pol(serie_marcas, \"brand\")], axis=1)\n",
        "\n",
        "\n",
        "\n",
        "categoricas = [\"fuel\", \"seller_type\", \"transmission\", \"owner\"]\n",
        "\n",
        "for categorica in categoricas:\n",
        "    serie = test_df[categorica].map(lambda x: diccionarios[categorica][x])\n",
        "    processed_sub_df = pd.concat([processed_sub_df, crear_pol(serie, categorica)], axis=1)\n",
        "\n",
        "\n",
        "print(processed_sub_df.columns)\n",
        "print(processed_df.columns)"
      ]
    },
    {
      "cell_type": "code",
      "execution_count": 40,
      "metadata": {},
      "outputs": [
        {
          "data": {
            "text/plain": [
              "array([ 130000.        , 1050000.        , 1100000.        ,\n",
              "        350000.        ,  600000.        ,  180000.        ,\n",
              "        189500.        ,  270000.        ,  525000.        ,\n",
              "        192800.        , 1200000.        ,  250000.        ,\n",
              "        467000.        ,  432124.97      , 5150000.        ,\n",
              "        260000.        ,  620000.        ,  354779.99      ,\n",
              "        525000.        ,  425499.5       ,  448414.92      ,\n",
              "        380000.        ,  164340.        , 1049000.        ,\n",
              "        525000.        ,  850000.        ,  198550.        ,\n",
              "        570000.        ,  175000.        ,  303400.        ,\n",
              "        656616.65666667,  500000.        , 5150000.        ,\n",
              "        840000.        ,  582649.99      , 2677347.82608696,\n",
              "        252000.        ,  120000.        ,  850000.        ,\n",
              "        184850.        ,  187500.        ,  539500.        ,\n",
              "        350000.        ,  370000.        ,  700000.        ,\n",
              "        150000.        ,  300000.        ,  385000.        ,\n",
              "        200000.        ,  270000.        ,  750000.        ,\n",
              "        700000.        ,  925000.        , 1205410.        ,\n",
              "        500000.        ,  750000.        ,  660000.        ,\n",
              "       3800000.        ,  350000.        ,  200000.        ,\n",
              "        300000.        ,  625000.        ,  183333.33333333,\n",
              "        815000.        ,  516790.        ,  170000.        ,\n",
              "        525000.        ,  700000.        ,  260155.        ,\n",
              "        681000.        ,  300000.        ,  220000.        ,\n",
              "        450000.        ,  217000.        ,   85385.        ,\n",
              "        800000.        , 1000000.        ,  360000.        ,\n",
              "        975000.        ,  450000.        ,  480000.        ,\n",
              "        325000.        ,  325000.        ,  800000.        ,\n",
              "        455000.        ,  600000.        ,  220000.        ,\n",
              "        550000.        ,  280000.        ,  130000.        ,\n",
              "        463879.89      ,  200000.        ,  310000.        ,\n",
              "       1000000.        ,  311659.99      ,  540000.        ,\n",
              "        350000.        ,  400000.        ,  699000.        ,\n",
              "        280000.        , 1149000.        ,  710119.99      ,\n",
              "        390000.        ,  275000.        , 1300000.        ,\n",
              "       1090000.        ,  190000.        ,  450000.        ,\n",
              "        551233.33333333,  370000.        , 4000000.        ,\n",
              "        779000.        ,  560000.        ,  330000.        ,\n",
              "        730000.        , 1140000.        , 1051000.        ,\n",
              "        570000.        ,  600000.        ,  669300.        ,\n",
              "        544940.        ,  602220.        , 1000000.        ,\n",
              "        640000.        ,  550000.        ,   55000.        ,\n",
              "        325000.        ,  480000.        ,  160000.        ,\n",
              "        360000.        , 2475000.        ,  575000.        ,\n",
              "         90000.        ,  750000.        ,  800000.        ,\n",
              "        700000.        ,  294822.4       , 1278970.        ,\n",
              "        530000.        , 1400000.        ,  310000.        ,\n",
              "        250000.        ,  480000.        ,   35000.        ,\n",
              "        355000.        ,   78600.        ,  611000.        ,\n",
              "        703666.66666667,  900000.        ,  150000.        ,\n",
              "        595000.        ,  290000.        ,  220000.        ,\n",
              "        721150.        ,  165000.        ,  426000.        ,\n",
              "        540000.        ,  200000.        ,  550000.        ,\n",
              "        432969.94      ,  455000.        ,  767500.        ,\n",
              "        598019.94      ,  125300.        ,  180000.        ,\n",
              "        680000.        ,  900000.        ,  570000.        ,\n",
              "        360000.        , 2000000.        , 2175000.        ,\n",
              "        250000.        ,  660000.        ,  150000.        ,\n",
              "        625000.        ,  260000.        ,  280000.        ,\n",
              "        650000.        ,  400000.        ,  521000.        ,\n",
              "        228429.99333333,  600000.        ,  465000.        ,\n",
              "        563249.99      ,  565000.        ,  140000.        ,\n",
              "        950000.        ,  819999.        ,  120000.        ,\n",
              "        265000.        ,  850000.        ,  190450.        ,\n",
              "        506539.99      ,   60000.        ,  320000.        ,\n",
              "        776529.99      ,  616333.33333333, 1850000.        ,\n",
              "        236859.99      , 1025000.        ,  288325.        ,\n",
              "        452499.54      ,  244300.        ,  130000.        ,\n",
              "        217000.        ,  600000.        ,  509999.        ,\n",
              "        200000.        ,  165000.        ,  180000.        ,\n",
              "        125000.        ,  400000.        , 2575000.        ,\n",
              "        600000.        ,  370000.        ,   77000.        ,\n",
              "        515000.        ,  413850.        ,  745500.        ,\n",
              "        700000.        ,  434150.        ,  315000.        ,\n",
              "        102750.        ,  130000.        ,  150000.        ,\n",
              "        750000.        ,  625000.        , 1050000.        ,\n",
              "        630000.        ,  131140.        ,  386769.98      ,\n",
              "        347150.        ,  350000.        ,  500000.        ,\n",
              "        432500.        ,  286250.        ,  290000.        ,\n",
              "        550000.        ,  280000.        ,  190000.        ,\n",
              "        320000.        ,  330000.        ,  220000.        ,\n",
              "        577150.        ,  360000.        , 1525000.        ,\n",
              "       5150000.        ,  258410.        ,  220000.        ,\n",
              "        250000.        ,  225000.        ,  647000.        ,\n",
              "        100000.        , 1700000.        ,  112900.        ,\n",
              "        450000.        ,  645000.        ,  335000.        ,\n",
              "        141000.        ,  174000.        ,  693000.        ,\n",
              "        340000.        ,  180000.        ,  180000.        ,\n",
              "        799000.        ,  819999.        ,  434999.        ,\n",
              "        360000.        ,  260000.        ,  125000.        ,\n",
              "        810160.        ,  590000.        ,  280000.        ,\n",
              "        400000.        ,  900000.        ,  492499.5       ,\n",
              "         99000.        ,  200000.        ,  575000.        ,\n",
              "        540000.        ,  740000.        ,  525000.        ,\n",
              "       1282000.        ,  270000.        ,  300000.        ,\n",
              "        197390.        ,  650000.        ,  382389.73      ,\n",
              "       2475000.        ,  225000.        ,  950000.        ,\n",
              "        250000.        ,  815000.        ,  411919.99      ,\n",
              "        775000.        ,  925000.        ,  577699.65      ,\n",
              "       1100000.        ,  465000.        ,  250000.        ,\n",
              "        598000.        ,  137670.        ,  220000.        ,\n",
              "        303333.33333333,  200000.        ,  539500.        ,\n",
              "        292500.        ,   55000.        ,  250000.        ,\n",
              "        370000.        ,  254999.        ,  480199.94      ,\n",
              "        232869.89      ,  655640.        ,  300000.        ,\n",
              "        723750.        ,  500000.        ,  740325.        ,\n",
              "        819250.        ,  503000.        ,  660000.        ,\n",
              "        500000.        ,  400000.        ,  650000.        ,\n",
              "        770000.        ,  650000.        ,  218400.        ,\n",
              "         50000.        ,  626666.66666667,  950000.        ,\n",
              "        501666.33333333,  375000.        ,  390000.        ,\n",
              "        201300.        ,  325000.        ,  125000.        ,\n",
              "        285000.        ,   50000.        ,  180200.        ,\n",
              "        125000.        ,  225520.        ,  500000.        ,\n",
              "        332249.92      ,  143090.        ,  370000.        ,\n",
              "        438740.        ,  675000.        ,  488333.        ,\n",
              "        434999.        ,  400000.        ,  650000.        ,\n",
              "        409999.        ,  155000.        ,   55000.        ,\n",
              "        680000.        ,  335000.        ,  373999.99      ,\n",
              "        325000.        ,  665000.        ,  483000.        ,\n",
              "        200000.        ,  700000.        ,  585000.        ,\n",
              "        550000.        ,  730000.        ,  270000.        ,\n",
              "        441350.        ,  586350.        ,  240000.        ,\n",
              "         68400.        ,  480000.        ,  500000.        ,\n",
              "        700000.        ,  265000.        ,  205899.98      ,\n",
              "        550000.        ,  300000.        ,  819999.        ,\n",
              "       5419047.61904763,  730000.        ,  220000.        ,\n",
              "        585000.        , 1250000.        ,  264000.        ,\n",
              "        466000.        ,  420000.        ,  459999.        ,\n",
              "        500000.        ,  416000.        ,  275000.        ,\n",
              "       1100000.        ,  480000.        ,   60000.        ,\n",
              "        220000.        ,  433000.        ,  587500.        ,\n",
              "        625000.        ,  120000.        ,  850000.        ,\n",
              "        250000.        ,  260000.        ,  260000.        ,\n",
              "        850000.        ,  171500.        ,  350000.        ,\n",
              "        580000.        ,  160000.        ,  575000.        ,\n",
              "        840000.        ,  820000.        , 2950000.        ,\n",
              "        540000.        ,  300000.        ,  280000.        ,\n",
              "         33351.        ,  243320.        , 2500000.        ,\n",
              "        450000.        ,  210000.        ,  204999.        ,\n",
              "        300000.        ,  434999.        , 1898999.        ,\n",
              "        250000.        ,  310000.        ,  777624.99      ,\n",
              "        168000.        ,  750000.        ,   58000.        ,\n",
              "        615000.        ,  450000.        ,  350000.        ,\n",
              "        465729.32      , 2950000.        ,  310000.        ,\n",
              "        300000.        ,  260000.        ,  550000.        ,\n",
              "       2475000.        ,  390000.        ,  919999.        ,\n",
              "        305000.        ,  500000.        ,  453000.        ,\n",
              "        280000.        ,  337000.        , 5419047.61904763,\n",
              "        360000.        ,  300000.        ,  749000.        ,\n",
              "        575000.        ,  135000.        , 1000000.        ,\n",
              "        500000.        ,  950000.        ,  250000.        ,\n",
              "        232500.        ,  290000.        ,  600000.        ,\n",
              "        125000.        , 3800000.        ,  346000.        ,\n",
              "        515000.        , 5419047.61904763,  310329.99      ,\n",
              "        450000.        ,  200000.        ,  375500.        ,\n",
              "        141480.        ,  940000.        ,  750000.        ,\n",
              "       1050000.        , 1750000.        ,  170000.        ,\n",
              "        290000.        ,  850000.        ,  369000.        ,\n",
              "        450000.        ,  254999.        ,  190000.        ,\n",
              "        427500.        ,  910000.        ,  420000.        ,\n",
              "        271035.        ,  559200.        ,  130000.        ,\n",
              "        295000.        ,  215000.        ,  360000.        ,\n",
              "        900000.        , 2135020.        ,  660000.        ,\n",
              "       5419047.61904763,  645000.        ,  225450.        ,\n",
              "        240000.        ,  385000.        ,  740000.        ,\n",
              "        670000.        ,  350000.        ,  578939.97      ,\n",
              "        900000.        ,  525000.        ,  254999.        ,\n",
              "        925000.        ,  440000.        ,  320000.        ,\n",
              "        400000.        , 2475000.        ,  482500.        ,\n",
              "        300000.        , 6523000.        ,  270000.        ,\n",
              "       1000000.        ,  441810.        ,  140000.        ,\n",
              "        167590.        ,  140000.        ,  420000.        ,\n",
              "        285000.        ,  160000.        ,  409999.        ,\n",
              "        170000.        , 2677347.82608696,  950000.        ,\n",
              "       1208110.        ,  650000.        , 2475000.        ,\n",
              "       5830000.        ,  600000.        , 2000000.        ,\n",
              "        662500.        ,  270000.        ,  295000.        ,\n",
              "        149000.        , 2677347.82608696, 5500000.        ,\n",
              "        245000.        ,  224130.        ,  779000.        ,\n",
              "        196000.        ,  175000.        ,  280000.        ,\n",
              "        400000.        , 1800000.        ,  600000.        ,\n",
              "        350000.        ,  309279.97      ,  250000.        ,\n",
              "        700000.        ,  447939.76      ,  150000.        ,\n",
              "        244999.33333333,  320000.        ,  382229.75      ,\n",
              "        350000.        ,  135000.        ,  170000.        ,\n",
              "        600000.        ,  108000.        ,  510459.87      ,\n",
              "        550000.        ,  190989.96      ,  395000.        ,\n",
              "        191883.27333333,  300000.        ,  349625.        ,\n",
              "        850000.        ,  712500.        ,  891000.        ,\n",
              "        640000.        ,  645000.        ,  950000.        ,\n",
              "        500000.        ,  250000.        ,  165000.        ,\n",
              "        350000.        ,  400000.        ,  190000.        ,\n",
              "        800000.        ,  250000.        ,  700000.        ,\n",
              "        315000.        ,  372499.5       ,  246750.        ,\n",
              "        320000.        ,  190000.        ,  975000.        ,\n",
              "        300000.        ,  314850.        ,  300000.        ,\n",
              "         66019.14      ,  680000.        ,  486100.        ,\n",
              "        625000.        ,  246750.        ,  620000.        ,\n",
              "        118199.695     ,  105000.        ,  800000.        ,\n",
              "        626666.66666667,  200000.        ,  675000.        ,\n",
              "        160000.        ,   45000.        ,  480000.        ,\n",
              "        450000.        ,  249249.9       ,  439199.95      ,\n",
              "        495000.        , 1650000.        ,  450000.        ,\n",
              "        520000.        ,  438240.        ,  232500.        ,\n",
              "       2051000.        ,  120000.        , 1300000.        ,\n",
              "        319000.        ,  116709.7       ,  550000.        ,\n",
              "        550000.        ,  200000.        ,  483333.33333333,\n",
              "        660100.        ,  250999.        , 5150000.        ,\n",
              "        550000.        ,  523440.        ,  540000.        ,\n",
              "        121000.        ,  295000.        ,  362000.        ,\n",
              "        140000.        ,  800000.        ,  400000.        ,\n",
              "        409999.        ,  346000.        ,  150334.        ,\n",
              "        282390.        ,  750000.        ,  562500.        ,\n",
              "       1500000.        ,  580000.        ,  626000.        ,\n",
              "        800000.        , 3800000.        ,  225000.        ,\n",
              "        225000.        ,  245000.        ,  950000.        ,\n",
              "        690000.        ,   90000.        ,  950000.        ,\n",
              "        290000.        ,  250000.        ,  400000.        ,\n",
              "        291162.45      ,  330000.        ,  250000.        ,\n",
              "        425000.        ,  130000.        ,   65000.        ,\n",
              "        961399.92      ,  435060.        ,  360000.        ,\n",
              "        950000.        ,  373333.33333333,  844999.        ,\n",
              "        650000.        , 5500000.        ,  475000.        ,\n",
              "       1383650.        ,  639900.        ,  850000.        ,\n",
              "        370000.        ,  516000.        ,  249910.        ,\n",
              "        750000.        ,  779000.        ,  201370.        ,\n",
              "        150000.        ,  450000.        ,  491769.41      ,\n",
              "       3800000.        ,   31504.        ,  187180.        ,\n",
              "        250000.        ,  740000.        ,  700000.        ,\n",
              "        258500.        ,  130000.        ,  374375.        ,\n",
              "        452500.        ,   95000.        ,  970699.98      ,\n",
              "        492499.5       ,  340000.        ,  450000.        ,\n",
              "        671000.        ,  291350.        ,   95000.        ,\n",
              "       3200000.        ,  160000.        , 6000000.        ,\n",
              "        516234.775     , 2125000.        ,  219465.        ,\n",
              "        252999.        ,  950000.        ,  400000.        ,\n",
              "        495000.        ,  575000.        , 1350000.        ,\n",
              "        155650.        ,  204999.        ,  265000.        ,\n",
              "        225000.        ,   64790.        ,  238455.        ,\n",
              "        397200.        , 5150000.        ,  195000.        ,\n",
              "        350000.        ,  221000.        ,  400000.        ,\n",
              "       3800000.        ,  600000.        , 1750000.        ,\n",
              "        250000.        ,  470000.        ,  160000.        ,\n",
              "        225000.        ,  648339.99      ,  580000.        ,\n",
              "        200000.        ,  300000.        , 1050000.        ,\n",
              "        525000.        ,  780000.        ,  170000.        ,\n",
              "        675000.        ,   59142.65      ,  400000.        ,\n",
              "       3800000.        ,  434999.        ,  550000.        ,\n",
              "        245000.        ,  245000.        ,  690000.        ,\n",
              "        295074.96      ,  229999.        ,  160000.        ,\n",
              "        247999.99      ,  762249.95      ,  488333.33333333,\n",
              "        550000.        ,  711000.        ,  225000.        ,\n",
              "        374800.        ,  600000.        ,  595900.        ,\n",
              "       3750000.        ,  289810.        ,  300000.        ,\n",
              "        400000.        ,  120000.        , 2000000.        ,\n",
              "        250000.        ,  378649.81      ,  600000.        ,\n",
              "       4100000.        ,  385000.        ,  655000.        ,\n",
              "        241250.        ,  400000.        ,  170000.        ,\n",
              "        280000.        ,  944999.        ,  111004.57      ,\n",
              "        150000.        , 3200000.        ,  200000.        ,\n",
              "        790000.        ,  300000.        , 1300000.        ,\n",
              "        561169.985     , 1025000.        ,  545000.        ,\n",
              "        660000.        ,  625000.        ,  650000.        ,\n",
              "        650000.        ,  402449.91      ,  196009.98      ,\n",
              "        151900.        ,  620000.        ,   72130.        ,\n",
              "        189889.96      , 5500000.        ,  130000.        ,\n",
              "        256870.        ,  240000.        ,  600000.        ,\n",
              "        160000.        ,  600000.        ,  950000.        ,\n",
              "        746000.        ,  390000.        ,  631000.        ,\n",
              "        589000.        , 3975000.        ,  675000.        ])"
            ]
          },
          "execution_count": 40,
          "metadata": {},
          "output_type": "execute_result"
        }
      ],
      "source": [
        "#En caso de que el modelo no acepte nan\n",
        "\n",
        "X_sub = processed_sub_df.drop(\"name\", axis=1)\n",
        "X_sub = X_sub.astype(\"float\")\n",
        "\n",
        "prediccion = reg.predict(procesar_nan(X_sub))\n",
        "prediccion"
      ]
    },
    {
      "cell_type": "code",
      "execution_count": 41,
      "metadata": {},
      "outputs": [],
      "source": [
        "from csv import writer\n",
        "\n",
        "with open(\"resultados.csv\", \"w\") as file:\n",
        "    escritor = writer(file, lineterminator=\"\\n\")\n",
        "\n",
        "    escritor.writerow([\"id\", \"TARGET\"])\n",
        "\n",
        "    for i, dato in enumerate(prediccion):\n",
        "        escritor.writerow([i + 1,dato])"
      ]
    },
    {
      "cell_type": "code",
      "execution_count": 42,
      "metadata": {},
      "outputs": [
        {
          "ename": "ValueError",
          "evalue": "Input X contains NaN.\nExtraTreesRegressor does not accept missing values encoded as NaN natively. For supervised learning, you might want to consider sklearn.ensemble.HistGradientBoostingClassifier and Regressor which accept missing values encoded as NaNs natively. Alternatively, it is possible to preprocess the data, for instance by using an imputer transformer in a pipeline or drop samples with missing values. See https://scikit-learn.org/stable/modules/impute.html You can find a list of all estimators that handle NaN values at the following page: https://scikit-learn.org/stable/modules/impute.html#estimators-that-handle-nan-values",
          "output_type": "error",
          "traceback": [
            "\u001b[1;31m---------------------------------------------------------------------------\u001b[0m",
            "\u001b[1;31mValueError\u001b[0m                                Traceback (most recent call last)",
            "Cell \u001b[1;32mIn[42], line 6\u001b[0m\n\u001b[0;32m      3\u001b[0m X_sub \u001b[38;5;241m=\u001b[39m processed_sub_df\u001b[38;5;241m.\u001b[39mdrop(\u001b[38;5;124m\"\u001b[39m\u001b[38;5;124mname\u001b[39m\u001b[38;5;124m\"\u001b[39m, axis\u001b[38;5;241m=\u001b[39m\u001b[38;5;241m1\u001b[39m)\n\u001b[0;32m      4\u001b[0m X_sub \u001b[38;5;241m=\u001b[39m X_sub\u001b[38;5;241m.\u001b[39mastype(\u001b[38;5;124m\"\u001b[39m\u001b[38;5;124mfloat\u001b[39m\u001b[38;5;124m\"\u001b[39m)\n\u001b[1;32m----> 6\u001b[0m prediccion \u001b[38;5;241m=\u001b[39m \u001b[43mreg\u001b[49m\u001b[38;5;241;43m.\u001b[39;49m\u001b[43mpredict\u001b[49m\u001b[43m(\u001b[49m\u001b[43mX_sub\u001b[49m\u001b[43m)\u001b[49m\n\u001b[0;32m      7\u001b[0m prediccion\n",
            "File \u001b[1;32mc:\\Users\\iocol\\AppData\\Local\\Programs\\Python\\Python312\\Lib\\site-packages\\sklearn\\ensemble\\_forest.py:1064\u001b[0m, in \u001b[0;36mForestRegressor.predict\u001b[1;34m(self, X)\u001b[0m\n\u001b[0;32m   1062\u001b[0m check_is_fitted(\u001b[38;5;28mself\u001b[39m)\n\u001b[0;32m   1063\u001b[0m \u001b[38;5;66;03m# Check data\u001b[39;00m\n\u001b[1;32m-> 1064\u001b[0m X \u001b[38;5;241m=\u001b[39m \u001b[38;5;28;43mself\u001b[39;49m\u001b[38;5;241;43m.\u001b[39;49m\u001b[43m_validate_X_predict\u001b[49m\u001b[43m(\u001b[49m\u001b[43mX\u001b[49m\u001b[43m)\u001b[49m\n\u001b[0;32m   1066\u001b[0m \u001b[38;5;66;03m# Assign chunk of trees to jobs\u001b[39;00m\n\u001b[0;32m   1067\u001b[0m n_jobs, _, _ \u001b[38;5;241m=\u001b[39m _partition_estimators(\u001b[38;5;28mself\u001b[39m\u001b[38;5;241m.\u001b[39mn_estimators, \u001b[38;5;28mself\u001b[39m\u001b[38;5;241m.\u001b[39mn_jobs)\n",
            "File \u001b[1;32mc:\\Users\\iocol\\AppData\\Local\\Programs\\Python\\Python312\\Lib\\site-packages\\sklearn\\ensemble\\_forest.py:641\u001b[0m, in \u001b[0;36mBaseForest._validate_X_predict\u001b[1;34m(self, X)\u001b[0m\n\u001b[0;32m    638\u001b[0m \u001b[38;5;28;01melse\u001b[39;00m:\n\u001b[0;32m    639\u001b[0m     force_all_finite \u001b[38;5;241m=\u001b[39m \u001b[38;5;28;01mTrue\u001b[39;00m\n\u001b[1;32m--> 641\u001b[0m X \u001b[38;5;241m=\u001b[39m \u001b[38;5;28;43mself\u001b[39;49m\u001b[38;5;241;43m.\u001b[39;49m\u001b[43m_validate_data\u001b[49m\u001b[43m(\u001b[49m\n\u001b[0;32m    642\u001b[0m \u001b[43m    \u001b[49m\u001b[43mX\u001b[49m\u001b[43m,\u001b[49m\n\u001b[0;32m    643\u001b[0m \u001b[43m    \u001b[49m\u001b[43mdtype\u001b[49m\u001b[38;5;241;43m=\u001b[39;49m\u001b[43mDTYPE\u001b[49m\u001b[43m,\u001b[49m\n\u001b[0;32m    644\u001b[0m \u001b[43m    \u001b[49m\u001b[43maccept_sparse\u001b[49m\u001b[38;5;241;43m=\u001b[39;49m\u001b[38;5;124;43m\"\u001b[39;49m\u001b[38;5;124;43mcsr\u001b[39;49m\u001b[38;5;124;43m\"\u001b[39;49m\u001b[43m,\u001b[49m\n\u001b[0;32m    645\u001b[0m \u001b[43m    \u001b[49m\u001b[43mreset\u001b[49m\u001b[38;5;241;43m=\u001b[39;49m\u001b[38;5;28;43;01mFalse\u001b[39;49;00m\u001b[43m,\u001b[49m\n\u001b[0;32m    646\u001b[0m \u001b[43m    \u001b[49m\u001b[43mforce_all_finite\u001b[49m\u001b[38;5;241;43m=\u001b[39;49m\u001b[43mforce_all_finite\u001b[49m\u001b[43m,\u001b[49m\n\u001b[0;32m    647\u001b[0m \u001b[43m\u001b[49m\u001b[43m)\u001b[49m\n\u001b[0;32m    648\u001b[0m \u001b[38;5;28;01mif\u001b[39;00m issparse(X) \u001b[38;5;129;01mand\u001b[39;00m (X\u001b[38;5;241m.\u001b[39mindices\u001b[38;5;241m.\u001b[39mdtype \u001b[38;5;241m!=\u001b[39m np\u001b[38;5;241m.\u001b[39mintc \u001b[38;5;129;01mor\u001b[39;00m X\u001b[38;5;241m.\u001b[39mindptr\u001b[38;5;241m.\u001b[39mdtype \u001b[38;5;241m!=\u001b[39m np\u001b[38;5;241m.\u001b[39mintc):\n\u001b[0;32m    649\u001b[0m     \u001b[38;5;28;01mraise\u001b[39;00m \u001b[38;5;167;01mValueError\u001b[39;00m(\u001b[38;5;124m\"\u001b[39m\u001b[38;5;124mNo support for np.int64 index based sparse matrices\u001b[39m\u001b[38;5;124m\"\u001b[39m)\n",
            "File \u001b[1;32mc:\\Users\\iocol\\AppData\\Local\\Programs\\Python\\Python312\\Lib\\site-packages\\sklearn\\base.py:633\u001b[0m, in \u001b[0;36mBaseEstimator._validate_data\u001b[1;34m(self, X, y, reset, validate_separately, cast_to_ndarray, **check_params)\u001b[0m\n\u001b[0;32m    631\u001b[0m         out \u001b[38;5;241m=\u001b[39m X, y\n\u001b[0;32m    632\u001b[0m \u001b[38;5;28;01melif\u001b[39;00m \u001b[38;5;129;01mnot\u001b[39;00m no_val_X \u001b[38;5;129;01mand\u001b[39;00m no_val_y:\n\u001b[1;32m--> 633\u001b[0m     out \u001b[38;5;241m=\u001b[39m \u001b[43mcheck_array\u001b[49m\u001b[43m(\u001b[49m\u001b[43mX\u001b[49m\u001b[43m,\u001b[49m\u001b[43m \u001b[49m\u001b[43minput_name\u001b[49m\u001b[38;5;241;43m=\u001b[39;49m\u001b[38;5;124;43m\"\u001b[39;49m\u001b[38;5;124;43mX\u001b[39;49m\u001b[38;5;124;43m\"\u001b[39;49m\u001b[43m,\u001b[49m\u001b[43m \u001b[49m\u001b[38;5;241;43m*\u001b[39;49m\u001b[38;5;241;43m*\u001b[39;49m\u001b[43mcheck_params\u001b[49m\u001b[43m)\u001b[49m\n\u001b[0;32m    634\u001b[0m \u001b[38;5;28;01melif\u001b[39;00m no_val_X \u001b[38;5;129;01mand\u001b[39;00m \u001b[38;5;129;01mnot\u001b[39;00m no_val_y:\n\u001b[0;32m    635\u001b[0m     out \u001b[38;5;241m=\u001b[39m _check_y(y, \u001b[38;5;241m*\u001b[39m\u001b[38;5;241m*\u001b[39mcheck_params)\n",
            "File \u001b[1;32mc:\\Users\\iocol\\AppData\\Local\\Programs\\Python\\Python312\\Lib\\site-packages\\sklearn\\utils\\validation.py:1049\u001b[0m, in \u001b[0;36mcheck_array\u001b[1;34m(array, accept_sparse, accept_large_sparse, dtype, order, copy, force_all_finite, ensure_2d, allow_nd, ensure_min_samples, ensure_min_features, estimator, input_name)\u001b[0m\n\u001b[0;32m   1043\u001b[0m     \u001b[38;5;28;01mraise\u001b[39;00m \u001b[38;5;167;01mValueError\u001b[39;00m(\n\u001b[0;32m   1044\u001b[0m         \u001b[38;5;124m\"\u001b[39m\u001b[38;5;124mFound array with dim \u001b[39m\u001b[38;5;132;01m%d\u001b[39;00m\u001b[38;5;124m. \u001b[39m\u001b[38;5;132;01m%s\u001b[39;00m\u001b[38;5;124m expected <= 2.\u001b[39m\u001b[38;5;124m\"\u001b[39m\n\u001b[0;32m   1045\u001b[0m         \u001b[38;5;241m%\u001b[39m (array\u001b[38;5;241m.\u001b[39mndim, estimator_name)\n\u001b[0;32m   1046\u001b[0m     )\n\u001b[0;32m   1048\u001b[0m \u001b[38;5;28;01mif\u001b[39;00m force_all_finite:\n\u001b[1;32m-> 1049\u001b[0m     \u001b[43m_assert_all_finite\u001b[49m\u001b[43m(\u001b[49m\n\u001b[0;32m   1050\u001b[0m \u001b[43m        \u001b[49m\u001b[43marray\u001b[49m\u001b[43m,\u001b[49m\n\u001b[0;32m   1051\u001b[0m \u001b[43m        \u001b[49m\u001b[43minput_name\u001b[49m\u001b[38;5;241;43m=\u001b[39;49m\u001b[43minput_name\u001b[49m\u001b[43m,\u001b[49m\n\u001b[0;32m   1052\u001b[0m \u001b[43m        \u001b[49m\u001b[43mestimator_name\u001b[49m\u001b[38;5;241;43m=\u001b[39;49m\u001b[43mestimator_name\u001b[49m\u001b[43m,\u001b[49m\n\u001b[0;32m   1053\u001b[0m \u001b[43m        \u001b[49m\u001b[43mallow_nan\u001b[49m\u001b[38;5;241;43m=\u001b[39;49m\u001b[43mforce_all_finite\u001b[49m\u001b[43m \u001b[49m\u001b[38;5;241;43m==\u001b[39;49m\u001b[43m \u001b[49m\u001b[38;5;124;43m\"\u001b[39;49m\u001b[38;5;124;43mallow-nan\u001b[39;49m\u001b[38;5;124;43m\"\u001b[39;49m\u001b[43m,\u001b[49m\n\u001b[0;32m   1054\u001b[0m \u001b[43m    \u001b[49m\u001b[43m)\u001b[49m\n\u001b[0;32m   1056\u001b[0m \u001b[38;5;28;01mif\u001b[39;00m copy:\n\u001b[0;32m   1057\u001b[0m     \u001b[38;5;28;01mif\u001b[39;00m _is_numpy_namespace(xp):\n\u001b[0;32m   1058\u001b[0m         \u001b[38;5;66;03m# only make a copy if `array` and `array_orig` may share memory`\u001b[39;00m\n",
            "File \u001b[1;32mc:\\Users\\iocol\\AppData\\Local\\Programs\\Python\\Python312\\Lib\\site-packages\\sklearn\\utils\\validation.py:126\u001b[0m, in \u001b[0;36m_assert_all_finite\u001b[1;34m(X, allow_nan, msg_dtype, estimator_name, input_name)\u001b[0m\n\u001b[0;32m    123\u001b[0m \u001b[38;5;28;01mif\u001b[39;00m first_pass_isfinite:\n\u001b[0;32m    124\u001b[0m     \u001b[38;5;28;01mreturn\u001b[39;00m\n\u001b[1;32m--> 126\u001b[0m \u001b[43m_assert_all_finite_element_wise\u001b[49m\u001b[43m(\u001b[49m\n\u001b[0;32m    127\u001b[0m \u001b[43m    \u001b[49m\u001b[43mX\u001b[49m\u001b[43m,\u001b[49m\n\u001b[0;32m    128\u001b[0m \u001b[43m    \u001b[49m\u001b[43mxp\u001b[49m\u001b[38;5;241;43m=\u001b[39;49m\u001b[43mxp\u001b[49m\u001b[43m,\u001b[49m\n\u001b[0;32m    129\u001b[0m \u001b[43m    \u001b[49m\u001b[43mallow_nan\u001b[49m\u001b[38;5;241;43m=\u001b[39;49m\u001b[43mallow_nan\u001b[49m\u001b[43m,\u001b[49m\n\u001b[0;32m    130\u001b[0m \u001b[43m    \u001b[49m\u001b[43mmsg_dtype\u001b[49m\u001b[38;5;241;43m=\u001b[39;49m\u001b[43mmsg_dtype\u001b[49m\u001b[43m,\u001b[49m\n\u001b[0;32m    131\u001b[0m \u001b[43m    \u001b[49m\u001b[43mestimator_name\u001b[49m\u001b[38;5;241;43m=\u001b[39;49m\u001b[43mestimator_name\u001b[49m\u001b[43m,\u001b[49m\n\u001b[0;32m    132\u001b[0m \u001b[43m    \u001b[49m\u001b[43minput_name\u001b[49m\u001b[38;5;241;43m=\u001b[39;49m\u001b[43minput_name\u001b[49m\u001b[43m,\u001b[49m\n\u001b[0;32m    133\u001b[0m \u001b[43m\u001b[49m\u001b[43m)\u001b[49m\n",
            "File \u001b[1;32mc:\\Users\\iocol\\AppData\\Local\\Programs\\Python\\Python312\\Lib\\site-packages\\sklearn\\utils\\validation.py:175\u001b[0m, in \u001b[0;36m_assert_all_finite_element_wise\u001b[1;34m(X, xp, allow_nan, msg_dtype, estimator_name, input_name)\u001b[0m\n\u001b[0;32m    158\u001b[0m \u001b[38;5;28;01mif\u001b[39;00m estimator_name \u001b[38;5;129;01mand\u001b[39;00m input_name \u001b[38;5;241m==\u001b[39m \u001b[38;5;124m\"\u001b[39m\u001b[38;5;124mX\u001b[39m\u001b[38;5;124m\"\u001b[39m \u001b[38;5;129;01mand\u001b[39;00m has_nan_error:\n\u001b[0;32m    159\u001b[0m     \u001b[38;5;66;03m# Improve the error message on how to handle missing values in\u001b[39;00m\n\u001b[0;32m    160\u001b[0m     \u001b[38;5;66;03m# scikit-learn.\u001b[39;00m\n\u001b[0;32m    161\u001b[0m     msg_err \u001b[38;5;241m+\u001b[39m\u001b[38;5;241m=\u001b[39m (\n\u001b[0;32m    162\u001b[0m         \u001b[38;5;124mf\u001b[39m\u001b[38;5;124m\"\u001b[39m\u001b[38;5;130;01m\\n\u001b[39;00m\u001b[38;5;132;01m{\u001b[39;00mestimator_name\u001b[38;5;132;01m}\u001b[39;00m\u001b[38;5;124m does not accept missing values\u001b[39m\u001b[38;5;124m\"\u001b[39m\n\u001b[0;32m    163\u001b[0m         \u001b[38;5;124m\"\u001b[39m\u001b[38;5;124m encoded as NaN natively. For supervised learning, you might want\u001b[39m\u001b[38;5;124m\"\u001b[39m\n\u001b[1;32m   (...)\u001b[0m\n\u001b[0;32m    173\u001b[0m         \u001b[38;5;124m\"\u001b[39m\u001b[38;5;124m#estimators-that-handle-nan-values\u001b[39m\u001b[38;5;124m\"\u001b[39m\n\u001b[0;32m    174\u001b[0m     )\n\u001b[1;32m--> 175\u001b[0m \u001b[38;5;28;01mraise\u001b[39;00m \u001b[38;5;167;01mValueError\u001b[39;00m(msg_err)\n",
            "\u001b[1;31mValueError\u001b[0m: Input X contains NaN.\nExtraTreesRegressor does not accept missing values encoded as NaN natively. For supervised learning, you might want to consider sklearn.ensemble.HistGradientBoostingClassifier and Regressor which accept missing values encoded as NaNs natively. Alternatively, it is possible to preprocess the data, for instance by using an imputer transformer in a pipeline or drop samples with missing values. See https://scikit-learn.org/stable/modules/impute.html You can find a list of all estimators that handle NaN values at the following page: https://scikit-learn.org/stable/modules/impute.html#estimators-that-handle-nan-values"
          ]
        }
      ],
      "source": [
        "#En caso de que el modelo acepte nan\n",
        "\n",
        "X_sub = processed_sub_df.drop(\"name\", axis=1)\n",
        "X_sub = X_sub.astype(\"float\")\n",
        "\n",
        "prediccion = reg.predict(X_sub)\n",
        "prediccion"
      ]
    }
  ],
  "metadata": {
    "colab": {
      "provenance": []
    },
    "kernelspec": {
      "display_name": "Python 3",
      "name": "python3"
    },
    "language_info": {
      "codemirror_mode": {
        "name": "ipython",
        "version": 3
      },
      "file_extension": ".py",
      "mimetype": "text/x-python",
      "name": "python",
      "nbconvert_exporter": "python",
      "pygments_lexer": "ipython3",
      "version": "3.12.0"
    }
  },
  "nbformat": 4,
  "nbformat_minor": 0
}
